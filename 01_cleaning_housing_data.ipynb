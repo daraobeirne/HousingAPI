{
 "cells": [
  {
   "cell_type": "code",
   "execution_count": 1,
   "metadata": {},
   "outputs": [],
   "source": [
    "import pandas as pd\n",
    "import matplotlib.pyplot as plt\n",
    "\n",
    "%matplotlib inline"
   ]
  },
  {
   "cell_type": "markdown",
   "metadata": {},
   "source": [
    "# read the csv files"
   ]
  },
  {
   "cell_type": "code",
   "execution_count": 3,
   "metadata": {},
   "outputs": [
    {
     "data": {
      "text/html": [
       "<div>\n",
       "<style scoped>\n",
       "    .dataframe tbody tr th:only-of-type {\n",
       "        vertical-align: middle;\n",
       "    }\n",
       "\n",
       "    .dataframe tbody tr th {\n",
       "        vertical-align: top;\n",
       "    }\n",
       "\n",
       "    .dataframe thead th {\n",
       "        text-align: right;\n",
       "    }\n",
       "</style>\n",
       "<table border=\"1\" class=\"dataframe\">\n",
       "  <thead>\n",
       "    <tr style=\"text-align: right;\">\n",
       "      <th></th>\n",
       "      <th>SALE TYPE</th>\n",
       "      <th>SOLD DATE</th>\n",
       "      <th>PROPERTY TYPE</th>\n",
       "      <th>CITY</th>\n",
       "      <th>STATE</th>\n",
       "      <th>ZIP</th>\n",
       "      <th>PRICE</th>\n",
       "      <th>BEDS</th>\n",
       "      <th>BATHS</th>\n",
       "      <th>LOCATION</th>\n",
       "      <th>...</th>\n",
       "      <th>HOA/MONTH</th>\n",
       "      <th>STATUS</th>\n",
       "      <th>NEXT OPEN HOUSE START TIME</th>\n",
       "      <th>NEXT OPEN HOUSE END TIME</th>\n",
       "      <th>SOURCE</th>\n",
       "      <th>MLS#</th>\n",
       "      <th>FAVORITE</th>\n",
       "      <th>INTERESTED</th>\n",
       "      <th>LATITUDE</th>\n",
       "      <th>LONGITUDE</th>\n",
       "    </tr>\n",
       "  </thead>\n",
       "  <tbody>\n",
       "    <tr>\n",
       "      <th>0</th>\n",
       "      <td>MLS Listing</td>\n",
       "      <td>NaN</td>\n",
       "      <td>Single Family Residential</td>\n",
       "      <td>Portland</td>\n",
       "      <td>OR</td>\n",
       "      <td>97211.0</td>\n",
       "      <td>27500.0</td>\n",
       "      <td>0.0</td>\n",
       "      <td>1.0</td>\n",
       "      <td>RODGER'S MARINA</td>\n",
       "      <td>...</td>\n",
       "      <td>NaN</td>\n",
       "      <td>Active</td>\n",
       "      <td>NaN</td>\n",
       "      <td>NaN</td>\n",
       "      <td>RMLS</td>\n",
       "      <td>18567126</td>\n",
       "      <td>N</td>\n",
       "      <td>Y</td>\n",
       "      <td>45.604756</td>\n",
       "      <td>-122.624335</td>\n",
       "    </tr>\n",
       "    <tr>\n",
       "      <th>1</th>\n",
       "      <td>MLS Listing</td>\n",
       "      <td>NaN</td>\n",
       "      <td>Vacant Land</td>\n",
       "      <td>Portland</td>\n",
       "      <td>OR</td>\n",
       "      <td>97210.0</td>\n",
       "      <td>30000.0</td>\n",
       "      <td>NaN</td>\n",
       "      <td>NaN</td>\n",
       "      <td>Portland West, Raleigh Hills</td>\n",
       "      <td>...</td>\n",
       "      <td>NaN</td>\n",
       "      <td>Active</td>\n",
       "      <td>NaN</td>\n",
       "      <td>NaN</td>\n",
       "      <td>RMLS</td>\n",
       "      <td>18118897</td>\n",
       "      <td>N</td>\n",
       "      <td>Y</td>\n",
       "      <td>45.522837</td>\n",
       "      <td>-122.733173</td>\n",
       "    </tr>\n",
       "    <tr>\n",
       "      <th>2</th>\n",
       "      <td>MLS Listing</td>\n",
       "      <td>NaN</td>\n",
       "      <td>Vacant Land</td>\n",
       "      <td>Portland</td>\n",
       "      <td>OR</td>\n",
       "      <td>97220.0</td>\n",
       "      <td>34777.0</td>\n",
       "      <td>NaN</td>\n",
       "      <td>NaN</td>\n",
       "      <td>Portland Northeast</td>\n",
       "      <td>...</td>\n",
       "      <td>NaN</td>\n",
       "      <td>Active</td>\n",
       "      <td>NaN</td>\n",
       "      <td>NaN</td>\n",
       "      <td>RMLS</td>\n",
       "      <td>18454531</td>\n",
       "      <td>N</td>\n",
       "      <td>Y</td>\n",
       "      <td>45.554321</td>\n",
       "      <td>-122.553849</td>\n",
       "    </tr>\n",
       "  </tbody>\n",
       "</table>\n",
       "<p>3 rows × 25 columns</p>\n",
       "</div>"
      ],
      "text/plain": [
       "     SALE TYPE  SOLD DATE              PROPERTY TYPE      CITY STATE      ZIP  \\\n",
       "0  MLS Listing        NaN  Single Family Residential  Portland    OR  97211.0   \n",
       "1  MLS Listing        NaN                Vacant Land  Portland    OR  97210.0   \n",
       "2  MLS Listing        NaN                Vacant Land  Portland    OR  97220.0   \n",
       "\n",
       "     PRICE  BEDS  BATHS                      LOCATION     ...      HOA/MONTH  \\\n",
       "0  27500.0   0.0    1.0               RODGER'S MARINA     ...            NaN   \n",
       "1  30000.0   NaN    NaN  Portland West, Raleigh Hills     ...            NaN   \n",
       "2  34777.0   NaN    NaN            Portland Northeast     ...            NaN   \n",
       "\n",
       "   STATUS  NEXT OPEN HOUSE START TIME  NEXT OPEN HOUSE END TIME  SOURCE  \\\n",
       "0  Active                         NaN                       NaN    RMLS   \n",
       "1  Active                         NaN                       NaN    RMLS   \n",
       "2  Active                         NaN                       NaN    RMLS   \n",
       "\n",
       "       MLS# FAVORITE INTERESTED   LATITUDE   LONGITUDE  \n",
       "0  18567126        N          Y  45.604756 -122.624335  \n",
       "1  18118897        N          Y  45.522837 -122.733173  \n",
       "2  18454531        N          Y  45.554321 -122.553849  \n",
       "\n",
       "[3 rows x 25 columns]"
      ]
     },
     "execution_count": 3,
     "metadata": {},
     "output_type": "execute_result"
    }
   ],
   "source": [
    "csv1_path = 'resources/file1_2018-09-20-14-42-11_4k.csv'\n",
    "csv2_path = 'resources/file2_2018-09-20-15-04-20_g.csv'\n",
    "csv3_path = 'resources/file3_2018-09-20-16-02-01_b.csv'\n",
    "\n",
    "prop_df1 = pd.read_csv(csv1_path)\n",
    "prop_df2 = pd.read_csv(csv2_path)\n",
    "prop_df3 = pd.read_csv(csv3_path)\n",
    "prop_df1.head(3)"
   ]
  },
  {
   "cell_type": "code",
   "execution_count": 4,
   "metadata": {},
   "outputs": [
    {
     "data": {
      "text/plain": [
       "((3716, 25), (387, 25), (133, 25))"
      ]
     },
     "execution_count": 4,
     "metadata": {},
     "output_type": "execute_result"
    }
   ],
   "source": [
    "(prop_df1.shape, prop_df2.shape, prop_df3.shape)"
   ]
  },
  {
   "cell_type": "markdown",
   "metadata": {},
   "source": [
    "# Merge all CSVs into one Dataframe"
   ]
  },
  {
   "cell_type": "code",
   "execution_count": 9,
   "metadata": {},
   "outputs": [
    {
     "data": {
      "text/plain": [
       "(4236, 25)"
      ]
     },
     "execution_count": 9,
     "metadata": {},
     "output_type": "execute_result"
    }
   ],
   "source": [
    "prop_df = prop_df1.append(prop_df2)\n",
    "prop_df = prop_df.append(prop_df3)\n",
    "prop_df.shape"
   ]
  },
  {
   "cell_type": "markdown",
   "metadata": {},
   "source": [
    "# find if there are duplicates"
   ]
  },
  {
   "cell_type": "code",
   "execution_count": 10,
   "metadata": {},
   "outputs": [
    {
     "data": {
      "text/plain": [
       "(209, 25)"
      ]
     },
     "execution_count": 10,
     "metadata": {},
     "output_type": "execute_result"
    }
   ],
   "source": [
    "prop_dup_index = prop_df.duplicated(['MLS#'])\n",
    "prop_dup = prop_df[prop_dup_index]\n",
    "prop_dup.shape"
   ]
  },
  {
   "cell_type": "code",
   "execution_count": 11,
   "metadata": {},
   "outputs": [
    {
     "data": {
      "text/plain": [
       "(4027, 25)"
      ]
     },
     "execution_count": 11,
     "metadata": {},
     "output_type": "execute_result"
    }
   ],
   "source": [
    "prop_df.drop_duplicates(subset=['MLS#'], inplace=True)\n",
    "prop_df.shape"
   ]
  },
  {
   "cell_type": "code",
   "execution_count": 12,
   "metadata": {},
   "outputs": [
    {
     "data": {
      "text/plain": [
       "Index(['SALE TYPE', 'SOLD DATE', 'PROPERTY TYPE', 'CITY', 'STATE', 'ZIP',\n",
       "       'PRICE', 'BEDS', 'BATHS', 'LOCATION', 'SQUARE FEET', 'LOT SIZE',\n",
       "       'YEAR BUILT', 'DAYS ON MARKET', '$/SQUARE FEET', 'HOA/MONTH', 'STATUS',\n",
       "       'NEXT OPEN HOUSE START TIME', 'NEXT OPEN HOUSE END TIME', 'SOURCE',\n",
       "       'MLS#', 'FAVORITE', 'INTERESTED', 'LATITUDE', 'LONGITUDE'],\n",
       "      dtype='object')"
      ]
     },
     "execution_count": 12,
     "metadata": {},
     "output_type": "execute_result"
    }
   ],
   "source": [
    "prop_df.columns"
   ]
  },
  {
   "cell_type": "markdown",
   "metadata": {},
   "source": [
    "# clean column names some hace \"illegal names\""
   ]
  },
  {
   "cell_type": "code",
   "execution_count": 13,
   "metadata": {},
   "outputs": [
    {
     "data": {
      "text/plain": [
       "Index(['SALE TYPE', 'SOLD DATE', 'PROPERTY TYPE', 'CITY', 'STATE', 'ZIP',\n",
       "       'PRICE', 'BEDS', 'BATHS', 'LOCATION', 'SQUARE FEET', 'LOT SIZE',\n",
       "       'YEAR BUILT', 'DAYS ON MARKET', 'PRICE PER SQFT', 'HOA PER MONTH',\n",
       "       'STATUS', 'NEXT OPEN HOUSE START TIME', 'NEXT OPEN HOUSE END TIME',\n",
       "       'SOURCE', 'MLS', 'FAVORITE', 'INTERESTED', 'LATITUDE', 'LONGITUDE'],\n",
       "      dtype='object')"
      ]
     },
     "execution_count": 13,
     "metadata": {},
     "output_type": "execute_result"
    }
   ],
   "source": [
    "prop_df.rename(index=str, columns={'$/SQUARE FEET':'PRICE PER SQFT',\n",
    "                                  'HOA/MONTH':'HOA PER MONTH',\n",
    "                                  'URL (SEE http://www.redfin.com/buy-a-home/comparative-market-analysis FOR INFO ON PRICING)':'URL',\n",
    "                                  'MLS#':'MLS'}, inplace=True)\n",
    "prop_df.columns"
   ]
  },
  {
   "cell_type": "markdown",
   "metadata": {},
   "source": [
    "# Drop unnecessary columns\n",
    "While it is beneficial to have a lot of features (columns) in our dataset, it is also important to drop those that are highly correlated to an existing field or a derivative of one or fields that we will never use. In the following, we drop fields that we will never use in this analysis."
   ]
  },
  {
   "cell_type": "code",
   "execution_count": 14,
   "metadata": {},
   "outputs": [],
   "source": [
    "prop_df.drop(columns=['SOLD DATE','NEXT OPEN HOUSE START TIME', 'NEXT OPEN HOUSE END TIME',\n",
    "                     'FAVORITE', 'INTERESTED'], inplace=True)"
   ]
  },
  {
   "cell_type": "markdown",
   "metadata": {},
   "source": [
    "# Find and fill missing values\n",
    "Missing values in certain columns are critical - beds, bath, price, latitude, longitude. We will drop these rows. Missing values in remaining columns are not so critical, we will fill them with 0 or average values.\n",
    "\n",
    "Before we fill, let us explore the histograms of numerical columns. With pandas, this can be accomplished with a single command as shown below:"
   ]
  },
  {
   "cell_type": "code",
   "execution_count": 15,
   "metadata": {
    "scrolled": true
   },
   "outputs": [
    {
     "data": {
      "image/png": "[encoded data removed]",
      "text/plain": [
       "<Figure size 1080x1080 with 16 Axes>"
      ]
     },
     "metadata": {},
     "output_type": "display_data"
    }
   ],
   "source": [
    "# explore distribution of numeric columns\n",
    "ax_list = pbb"
   ]
  },
  {
   "cell_type": "code",
   "execution_count": 16,
   "metadata": {},
   "outputs": [
    {
     "data": {
      "text/plain": [
       "(3653, 20)"
      ]
     },
     "execution_count": 16,
     "metadata": {},
     "output_type": "execute_result"
    }
   ],
   "source": [
    "# drop rows with missing values in critical columns\n",
    "prop_df_nona = prop_df.dropna(axis=0, how='any', # if any of these cols are empty, remove row\n",
    "                              subset=['BEDS','BATHS', 'PRICE', 'YEAR BUILT', 'LATITUDE','LONGITUDE'])\n",
    "prop_df_nona.shape"
   ]
  },
  {
   "cell_type": "code",
   "execution_count": 17,
   "metadata": {},
   "outputs": [
    {
     "name": "stderr",
     "output_type": "stream",
     "text": [
      "C:\\Users\\Dara\\AppData\\Local\\ESRI\\conda\\envs\\arcgispro-py3-clone\\lib\\site-packages\\pandas\\core\\generic.py:5434: SettingWithCopyWarning: \n",
      "A value is trying to be set on a copy of a slice from a DataFrame\n",
      "\n",
      "See the caveats in the documentation: http://pandas.pydata.org/pandas-docs/stable/indexing.html#indexing-view-versus-copy\n",
      "  self._update_inplace(new_data)\n"
     ]
    }
   ],
   "source": [
    "#Let us impute for missing values using different strategies for different columns.\n",
    "prop_df_nona['HOA PER MONTH'].fillna(value=0, inplace=True)\n",
    "prop_df_nona['LOT SIZE'].fillna(value=prop_df_nona['LOT SIZE'].median(), inplace=True)\n",
    "prop_df_nona['PRICE PER SQFT'].fillna(value=prop_df_nona['PRICE PER SQFT'].median(), inplace=True)\n",
    "prop_df_nona['SQUARE FEET'].fillna(value=prop_df_nona['SQUARE FEET'].median(), inplace=True)\n",
    "prop_df_nona['YEAR BUILT'].fillna(value=prop_df_nona['YEAR BUILT'].mode(), inplace=True)\n",
    "prop_df_nona['ZIP'].fillna(value=prop_df_nona['SQUARE FEET'].mode(), inplace=True)"
   ]
  },
  {
   "cell_type": "code",
   "execution_count": 19,
   "metadata": {},
   "outputs": [
    {
     "data": {
      "image/png": "[encoded data removed]",
      "text/plain": [
       "<Figure size 1080x1080 with 16 Axes>"
      ]
     },
     "metadata": {},
     "output_type": "display_data"
    }
   ],
   "source": [
    "# explore distribution of numeric columns\n",
    "ax_list = prop_df_nona.hist(bins=25, layout=(4,4), figsize=(15,15))\n"
   ]
  },
  {
   "cell_type": "markdown",
   "metadata": {},
   "source": [
    "# Explore distribution of numeric columns\n",
    "As can be seen from histogram, some numeric columns are heavily sqewed by outliers. Let us pull up statistics for each of these columns"
   ]
  },
  {
   "cell_type": "code",
   "execution_count": 20,
   "metadata": {},
   "outputs": [
    {
     "data": {
      "text/html": [
       "<div>\n",
       "<style scoped>\n",
       "    .dataframe tbody tr th:only-of-type {\n",
       "        vertical-align: middle;\n",
       "    }\n",
       "\n",
       "    .dataframe tbody tr th {\n",
       "        vertical-align: top;\n",
       "    }\n",
       "\n",
       "    .dataframe thead th {\n",
       "        text-align: right;\n",
       "    }\n",
       "</style>\n",
       "<table border=\"1\" class=\"dataframe\">\n",
       "  <thead>\n",
       "    <tr style=\"text-align: right;\">\n",
       "      <th></th>\n",
       "      <th>ZIP</th>\n",
       "      <th>PRICE</th>\n",
       "      <th>BEDS</th>\n",
       "      <th>BATHS</th>\n",
       "      <th>SQUARE FEET</th>\n",
       "      <th>LOT SIZE</th>\n",
       "      <th>YEAR BUILT</th>\n",
       "      <th>DAYS ON MARKET</th>\n",
       "      <th>PRICE PER SQFT</th>\n",
       "      <th>HOA PER MONTH</th>\n",
       "      <th>LATITUDE</th>\n",
       "      <th>LONGITUDE</th>\n",
       "    </tr>\n",
       "  </thead>\n",
       "  <tbody>\n",
       "    <tr>\n",
       "      <th>count</th>\n",
       "      <td>3653.000</td>\n",
       "      <td>3653.000</td>\n",
       "      <td>3653.000</td>\n",
       "      <td>3653.000</td>\n",
       "      <td>3653.000</td>\n",
       "      <td>3653.000</td>\n",
       "      <td>3653.000</td>\n",
       "      <td>3653.000</td>\n",
       "      <td>3653.000</td>\n",
       "      <td>3653.000</td>\n",
       "      <td>3653.000</td>\n",
       "      <td>3653.000</td>\n",
       "    </tr>\n",
       "    <tr>\n",
       "      <th>mean</th>\n",
       "      <td>97210.091</td>\n",
       "      <td>609851.635</td>\n",
       "      <td>3.316</td>\n",
       "      <td>2.428</td>\n",
       "      <td>2291.079</td>\n",
       "      <td>13448.155</td>\n",
       "      <td>1973.970</td>\n",
       "      <td>62.268</td>\n",
       "      <td>281.446</td>\n",
       "      <td>105.865</td>\n",
       "      <td>45.523</td>\n",
       "      <td>-122.638</td>\n",
       "    </tr>\n",
       "    <tr>\n",
       "      <th>std</th>\n",
       "      <td>93.873</td>\n",
       "      <td>458104.003</td>\n",
       "      <td>1.762</td>\n",
       "      <td>1.340</td>\n",
       "      <td>1342.049</td>\n",
       "      <td>72390.700</td>\n",
       "      <td>36.279</td>\n",
       "      <td>72.488</td>\n",
       "      <td>118.235</td>\n",
       "      <td>223.111</td>\n",
       "      <td>0.048</td>\n",
       "      <td>0.108</td>\n",
       "    </tr>\n",
       "    <tr>\n",
       "      <th>min</th>\n",
       "      <td>97002.000</td>\n",
       "      <td>35000.000</td>\n",
       "      <td>0.000</td>\n",
       "      <td>0.500</td>\n",
       "      <td>212.000</td>\n",
       "      <td>25.000</td>\n",
       "      <td>1878.000</td>\n",
       "      <td>1.000</td>\n",
       "      <td>44.000</td>\n",
       "      <td>0.000</td>\n",
       "      <td>45.363</td>\n",
       "      <td>-122.899</td>\n",
       "    </tr>\n",
       "    <tr>\n",
       "      <th>25%</th>\n",
       "      <td>97206.000</td>\n",
       "      <td>359900.000</td>\n",
       "      <td>2.000</td>\n",
       "      <td>2.000</td>\n",
       "      <td>1400.000</td>\n",
       "      <td>5227.000</td>\n",
       "      <td>1948.000</td>\n",
       "      <td>15.000</td>\n",
       "      <td>206.000</td>\n",
       "      <td>0.000</td>\n",
       "      <td>45.491</td>\n",
       "      <td>-122.704</td>\n",
       "    </tr>\n",
       "    <tr>\n",
       "      <th>50%</th>\n",
       "      <td>97217.000</td>\n",
       "      <td>495000.000</td>\n",
       "      <td>3.000</td>\n",
       "      <td>2.500</td>\n",
       "      <td>2062.000</td>\n",
       "      <td>6969.000</td>\n",
       "      <td>1980.000</td>\n",
       "      <td>42.000</td>\n",
       "      <td>251.000</td>\n",
       "      <td>0.000</td>\n",
       "      <td>45.524</td>\n",
       "      <td>-122.651</td>\n",
       "    </tr>\n",
       "    <tr>\n",
       "      <th>75%</th>\n",
       "      <td>97229.000</td>\n",
       "      <td>699934.000</td>\n",
       "      <td>4.000</td>\n",
       "      <td>3.000</td>\n",
       "      <td>2862.000</td>\n",
       "      <td>8712.000</td>\n",
       "      <td>2006.000</td>\n",
       "      <td>84.000</td>\n",
       "      <td>321.000</td>\n",
       "      <td>74.000</td>\n",
       "      <td>45.554</td>\n",
       "      <td>-122.573</td>\n",
       "    </tr>\n",
       "    <tr>\n",
       "      <th>max</th>\n",
       "      <td>98664.000</td>\n",
       "      <td>8650000.000</td>\n",
       "      <td>43.000</td>\n",
       "      <td>21.000</td>\n",
       "      <td>14500.000</td>\n",
       "      <td>3167247.000</td>\n",
       "      <td>2019.000</td>\n",
       "      <td>1080.000</td>\n",
       "      <td>1505.000</td>\n",
       "      <td>2091.000</td>\n",
       "      <td>45.730</td>\n",
       "      <td>-122.290</td>\n",
       "    </tr>\n",
       "  </tbody>\n",
       "</table>\n",
       "</div>"
      ],
      "text/plain": [
       "             ZIP        PRICE      BEDS     BATHS  SQUARE FEET     LOT SIZE  \\\n",
       "count   3653.000     3653.000  3653.000  3653.000     3653.000     3653.000   \n",
       "mean   97210.091   609851.635     3.316     2.428     2291.079    13448.155   \n",
       "std       93.873   458104.003     1.762     1.340     1342.049    72390.700   \n",
       "min    97002.000    35000.000     0.000     0.500      212.000       25.000   \n",
       "25%    97206.000   359900.000     2.000     2.000     1400.000     5227.000   \n",
       "50%    97217.000   495000.000     3.000     2.500     2062.000     6969.000   \n",
       "75%    97229.000   699934.000     4.000     3.000     2862.000     8712.000   \n",
       "max    98664.000  8650000.000    43.000    21.000    14500.000  3167247.000   \n",
       "\n",
       "       YEAR BUILT  DAYS ON MARKET  PRICE PER SQFT  HOA PER MONTH  LATITUDE  \\\n",
       "count    3653.000        3653.000        3653.000       3653.000  3653.000   \n",
       "mean     1973.970          62.268         281.446        105.865    45.523   \n",
       "std        36.279          72.488         118.235        223.111     0.048   \n",
       "min      1878.000           1.000          44.000          0.000    45.363   \n",
       "25%      1948.000          15.000         206.000          0.000    45.491   \n",
       "50%      1980.000          42.000         251.000          0.000    45.524   \n",
       "75%      2006.000          84.000         321.000         74.000    45.554   \n",
       "max      2019.000        1080.000        1505.000       2091.000    45.730   \n",
       "\n",
       "       LONGITUDE  \n",
       "count   3653.000  \n",
       "mean    -122.638  \n",
       "std        0.108  \n",
       "min     -122.899  \n",
       "25%     -122.704  \n",
       "50%     -122.651  \n",
       "75%     -122.573  \n",
       "max     -122.290  "
      ]
     },
     "execution_count": 20,
     "metadata": {},
     "output_type": "execute_result"
    }
   ],
   "source": [
    "prop_df_nona.describe().round(3)"
   ]
  },
  {
   "cell_type": "markdown",
   "metadata": {},
   "source": [
    "# Build statistical filters to remove outliers\n",
    "In this segment, we build $6\\sigma$ and Inter Quartile Range (IQR) filters to remove outliers from our dataset."
   ]
  },
  {
   "cell_type": "raw",
   "metadata": {},
   "source": [
    "Statistically, about 99.5% of data falls within $\\pm 3 \\sigma$ from $\\mu$ (mean). Thus, for fairly normally distributed data, $6\\sigma$ filter yields a good resultant dataset.\n",
    "\n",
    "IQR filter\n",
    "Howerver, certain columns such as BEDS, LOT SIZE are heavily sqewed. For such, the Inter Quartile Range filter (which uses median as a measure of centrality unlike 6sigma which uses mean) yields a robust filter as it is unaffected by outliers like the 6 sigma filter."
   ]
  },
  {
   "cell_type": "code",
   "execution_count": 22,
   "metadata": {},
   "outputs": [],
   "source": [
    "def six_sigma_filter(df, column):\n",
    "    sigma = df[column].std()\n",
    "    mu = df[column].mean()\n",
    "    three_sigma = [mu-(3*sigma), mu+(3*sigma)]\n",
    "    print(\"Column:{}, Mean:{}, Sigma:{}, 3sigma_range: {}:{}\".format(column,mu.round(3),\n",
    "                                                                       sigma.round(3),\n",
    "                                                                       three_sigma[0].round(2),\n",
    "                                                                       three_sigma[1].round(2)))\n",
    "    \n",
    "    # filter\n",
    "    df_to_keep = df[(df[column] > three_sigma[0]) & (df[column] < three_sigma[1])]\n",
    "    \n",
    "    # prints\n",
    "    num_rows_dropped = prop_df.shape[0] - df_to_keep.shape[0]\n",
    "    print(\"Number of rows dropped: \" + str(num_rows_dropped))\n",
    "    \n",
    "    return df_to_keep"
   ]
  },
  {
   "cell_type": "code",
   "execution_count": 23,
   "metadata": {},
   "outputs": [],
   "source": [
    "def iqr_filter(df, column):\n",
    "    med = df[column].median()\n",
    "    p_25 = df[column].quantile(q=0.25)\n",
    "    p_75 = df[column].quantile(q=0.75)\n",
    "    \n",
    "    # find valid range\n",
    "    iqr_range = [med-(2*p_25), med+(2*p_75)]\n",
    "    print(\"Column: {}, Median:{}, 25%:{}, 75%:{}, IQR:{}:{}\".format(column,med,\n",
    "                                                                    p_25,p_75,\n",
    "                                                                    iqr_range[0].round(2),\n",
    "                                                                    iqr_range[1].round(2)))\n",
    "    \n",
    "    # filter\n",
    "    df_to_keep = df[(df[column] > iqr_range[0]) & (df[column] < iqr_range[1])]\n",
    "    \n",
    "    #prints\n",
    "    num_rows_dropped = prop_df.shape[0] - df_to_keep.shape[0]\n",
    "    print(\"Number of rows dropped: \" + str(num_rows_dropped))\n",
    "    \n",
    "    return df_to_keep"
   ]
  },
  {
   "cell_type": "markdown",
   "metadata": {},
   "source": [
    "# Filter columns using both filters and compare"
   ]
  },
  {
   "cell_type": "code",
   "execution_count": 24,
   "metadata": {},
   "outputs": [
    {
     "name": "stdout",
     "output_type": "stream",
     "text": [
      "Column:BATHS, Mean:2.428, Sigma:1.34, 3sigma_range: -1.59:6.45\n",
      "Number of rows dropped: 422\n"
     ]
    }
   ],
   "source": [
    "prop_df2 = six_sigma_filter(prop_df_nona, 'BATHS')"
   ]
  }
 ],
 "metadata": {
  "kernelspec": {
   "display_name": "Python 3",
   "language": "python",
   "name": "python3"
  },
  "language_info": {
   "codemirror_mode": {
    "name": "ipython",
    "version": 3
   },
   "file_extension": ".py",
   "mimetype": "text/x-python",
   "name": "python",
   "nbconvert_exporter": "python",
   "pygments_lexer": "ipython3",
   "version": "3.6.5"
  }
 },
 "nbformat": 4,
 "nbformat_minor": 2
}
